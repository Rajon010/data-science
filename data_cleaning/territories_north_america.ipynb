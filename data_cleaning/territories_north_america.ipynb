{
 "cells": [
  {
   "cell_type": "markdown",
   "id": "3c5b0d3d",
   "metadata": {},
   "source": [
    "# Territories North America\n",
    "In this notebook, I extract boundaries of America, Canada, Greenland, and Alaska. The extracted coastlines will be used in visualization and don't need to be very detailed. Many islands are omitted."
   ]
  },
  {
   "cell_type": "markdown",
   "id": "491589dc",
   "metadata": {},
   "source": [
    "## Prerequisites\n",
    "Before running this notebook, one needs to download a dataset from https://www.naturalearthdata.com/downloads/10m-cultural-vectors/. Go to the section `Admin 0 – Countries` and click the button `Download countries`. Unzip the downloaded file and put it in `datasets/naturalearthdata/`. The resulting directory structure is like"
   ]
  },
  {
   "cell_type": "code",
   "execution_count": 1,
   "id": "1adc9365",
   "metadata": {},
   "outputs": [
    {
     "name": "stdout",
     "output_type": "stream",
     "text": [
      "\u001b[01;34m../datasets/naturalearthdata/\u001b[00m\r\n",
      "└── \u001b[01;34mne_10m_admin_0_countries\u001b[00m\r\n",
      "    ├── ne_10m_admin_0_countries.cpg\r\n",
      "    ├── ne_10m_admin_0_countries.dbf\r\n",
      "    ├── ne_10m_admin_0_countries.prj\r\n",
      "    ├── ne_10m_admin_0_countries.README.html\r\n",
      "    ├── ne_10m_admin_0_countries.shp\r\n",
      "    ├── ne_10m_admin_0_countries.shx\r\n",
      "    └── ne_10m_admin_0_countries.VERSION.txt\r\n",
      "\r\n",
      "1 directory, 7 files\r\n"
     ]
    }
   ],
   "source": [
    "! tree ../datasets/naturalearthdata/"
   ]
  },
  {
   "cell_type": "markdown",
   "id": "4a3ffb0b",
   "metadata": {},
   "source": [
    "## The program starts here"
   ]
  },
  {
   "cell_type": "code",
   "execution_count": 2,
   "id": "466a4cc0",
   "metadata": {},
   "outputs": [],
   "source": [
    "import geopandas as gpd\n",
    "import matplotlib.pyplot as plt\n",
    "import numpy as np"
   ]
  },
  {
   "cell_type": "code",
   "execution_count": 3,
   "id": "83c4042d",
   "metadata": {},
   "outputs": [],
   "source": [
    "gdf = gpd.read_file('../datasets/naturalearthdata/ne_10m_admin_0_countries/ne_10m_admin_0_countries.shp')"
   ]
  },
  {
   "cell_type": "code",
   "execution_count": 4,
   "id": "afd35be3",
   "metadata": {},
   "outputs": [],
   "source": [
    "boundaries = [\n",
    "    np.array(gdf[gdf['SOVEREIGNT'] == country]['geometry'].iat[i].boundary.geoms[j].xy)\n",
    "for country, i, j in [\n",
    "    ('United States of America', 0, 0),\n",
    "    ('United States of America', 0, 1),\n",
    "    ('Canada', 0, 0),\n",
    "    ('Denmark', 1, 0),\n",
    "]]"
   ]
  },
  {
   "cell_type": "markdown",
   "id": "c533b9f6",
   "metadata": {},
   "source": [
    "Here plots the extracted boundaries."
   ]
  },
  {
   "cell_type": "code",
   "execution_count": 5,
   "id": "b307d91b",
   "metadata": {},
   "outputs": [
    {
     "data": {
      "image/png": "[encoded data removed]",
      "text/plain": [
       "<Figure size 432x288 with 1 Axes>"
      ]
     },
     "metadata": {
      "needs_background": "light"
     },
     "output_type": "display_data"
    }
   ],
   "source": [
    "fig, ax = plt.subplots()\n",
    "for bound in boundaries:\n",
    "    ax.plot(bound[0], bound[1], c='black', linewidth=.3)\n",
    "# ax.set_aspect('equal')\n",
    "ax.grid();"
   ]
  },
  {
   "cell_type": "markdown",
   "id": "95a43737",
   "metadata": {},
   "source": [
    "Here saves the extracted boundaries as a file for later usage."
   ]
  },
  {
   "cell_type": "code",
   "execution_count": 6,
   "id": "bf4f9633",
   "metadata": {},
   "outputs": [],
   "source": [
    "with open('../repository/territories_north_america.npy', 'wb') as f:\n",
    "    for bound in boundaries:\n",
    "        np.save(f, bound)"
   ]
  },
  {
   "cell_type": "markdown",
   "id": "917e0c5d",
   "metadata": {},
   "source": [
    "The program ends here."
   ]
  },
  {
   "cell_type": "markdown",
   "id": "f4a47b58",
   "metadata": {},
   "source": [
    "## Environment"
   ]
  },
  {
   "cell_type": "code",
   "execution_count": 8,
   "id": "f485917c",
   "metadata": {},
   "outputs": [
    {
     "name": "stdout",
     "output_type": "stream",
     "text": [
      "I run this jupyter notebook in a conda environment called spatial\n"
     ]
    },
    {
     "name": "stderr",
     "output_type": "stream",
     "text": [
      "INFO: Successfully output requirements\n"
     ]
    },
    {
     "data": {
      "text/plain": [
       "['geopandas==0.10.2', 'matplotlib==3.4.3', 'numpy==1.21.4']"
      ]
     },
     "execution_count": 8,
     "metadata": {},
     "output_type": "execute_result"
    }
   ],
   "source": [
    "import sys, os, subprocess\n",
    "print('I run this jupyter notebook in a conda environment called ', end='')\n",
    "print(sys.executable.split('/')[-3])\n",
    "filename = 'coastlines_near_taiwan.ipynb'\n",
    "subprocess.check_output([\n",
    "    'pipreqsnb', '--use-local', '--print', \n",
    "    os.path.join(os.getcwd(), filename)\n",
    "]).decode().strip().split('\\n')[:-1]"
   ]
  }
 ],
 "metadata": {
  "kernelspec": {
   "display_name": "Python [conda env:spatial]",
   "language": "python",
   "name": "conda-env-spatial-py"
  },
  "language_info": {
   "codemirror_mode": {
    "name": "ipython",
    "version": 3
   },
   "file_extension": ".py",
   "mimetype": "text/x-python",
   "name": "python",
   "nbconvert_exporter": "python",
   "pygments_lexer": "ipython3",
   "version": "3.9.7"
  }
 },
 "nbformat": 4,
 "nbformat_minor": 5
}
